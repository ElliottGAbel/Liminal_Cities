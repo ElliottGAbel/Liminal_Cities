{
 "cells": [
  {
   "cell_type": "code",
   "execution_count": 1,
   "id": "411dcfb5-fce3-412a-8798-7f1dd7c98de4",
   "metadata": {},
   "outputs": [],
   "source": [
    "import pandas as pd\n",
    "import censusdata\n",
    "import geopandas as gpd\n",
    "import matplotlib.pyplot as plt\n",
    "import numpy as np\n",
    "import glob\n",
    "import seaborn as sb\n",
    "\n",
    "%matplotlib inline\n",
    "%config InlineBackend.figure_format ='retina'\n",
    "\n",
    "sharedFolder = '/work/group/egodat/reu23_clark/'\n",
    "dataFolder = sharedFolder + 'data/'"
   ]
  },
  {
   "cell_type": "code",
   "execution_count": 2,
   "id": "0e1ec473-86f4-4610-b566-35351785e9cd",
   "metadata": {},
   "outputs": [],
   "source": [
    "year = '20'\n",
    "metroId = 19100 # DFW"
   ]
  },
  {
   "cell_type": "code",
   "execution_count": 3,
   "id": "a2c6b45e-d775-47db-b03b-ff78c89cde3d",
   "metadata": {},
   "outputs": [],
   "source": [
    "bgrps = gpd.read_file(dataFolder + 'tl_2020_48_bg.zip').to_crs(3857)"
   ]
  },
  {
   "cell_type": "code",
   "execution_count": 4,
   "id": "a5c813fe-2d59-4245-ae70-dc894b78dbf8",
   "metadata": {},
   "outputs": [],
   "source": [
    "bgrps = bgrps[['GEOID', 'COUNTYFP', 'ALAND', 'geometry']].copy()\n",
    "bgrps['GEOID'] = bgrps['GEOID'].astype(int)\n",
    "bgrps['COUNTYFP'] = bgrps['COUNTYFP'].astype(int)"
   ]
  },
  {
   "cell_type": "code",
   "execution_count": 5,
   "id": "9d42af64-450e-49c3-84d0-ea9d52fb97ee",
   "metadata": {},
   "outputs": [
    {
     "data": {
      "text/html": [
       "<div>\n",
       "<style scoped>\n",
       "    .dataframe tbody tr th:only-of-type {\n",
       "        vertical-align: middle;\n",
       "    }\n",
       "\n",
       "    .dataframe tbody tr th {\n",
       "        vertical-align: top;\n",
       "    }\n",
       "\n",
       "    .dataframe thead th {\n",
       "        text-align: right;\n",
       "    }\n",
       "</style>\n",
       "<table border=\"1\" class=\"dataframe\">\n",
       "  <thead>\n",
       "    <tr style=\"text-align: right;\">\n",
       "      <th></th>\n",
       "      <th>GEOID</th>\n",
       "      <th>COUNTYFP</th>\n",
       "      <th>ALAND</th>\n",
       "      <th>geometry</th>\n",
       "    </tr>\n",
       "  </thead>\n",
       "  <tbody>\n",
       "    <tr>\n",
       "      <th>0</th>\n",
       "      <td>481539506003</td>\n",
       "      <td>153</td>\n",
       "      <td>9238641</td>\n",
       "      <td>POLYGON ((-11285239.429 4026685.683, -11285236...</td>\n",
       "    </tr>\n",
       "    <tr>\n",
       "      <th>1</th>\n",
       "      <td>481539506005</td>\n",
       "      <td>153</td>\n",
       "      <td>1070676551</td>\n",
       "      <td>POLYGON ((-11306112.166 4036819.664, -11306045...</td>\n",
       "    </tr>\n",
       "    <tr>\n",
       "      <th>2</th>\n",
       "      <td>481610004001</td>\n",
       "      <td>161</td>\n",
       "      <td>12766486</td>\n",
       "      <td>POLYGON ((-10741933.817 3736605.570, -10741839...</td>\n",
       "    </tr>\n",
       "    <tr>\n",
       "      <th>3</th>\n",
       "      <td>481610006001</td>\n",
       "      <td>161</td>\n",
       "      <td>153883256</td>\n",
       "      <td>POLYGON ((-10733577.283 3722195.688, -10733521...</td>\n",
       "    </tr>\n",
       "    <tr>\n",
       "      <th>4</th>\n",
       "      <td>481759602001</td>\n",
       "      <td>175</td>\n",
       "      <td>391287006</td>\n",
       "      <td>POLYGON ((-10870789.948 3344361.764, -10870776...</td>\n",
       "    </tr>\n",
       "    <tr>\n",
       "      <th>...</th>\n",
       "      <td>...</td>\n",
       "      <td>...</td>\n",
       "      <td>...</td>\n",
       "      <td>...</td>\n",
       "    </tr>\n",
       "    <tr>\n",
       "      <th>18633</th>\n",
       "      <td>482211602161</td>\n",
       "      <td>221</td>\n",
       "      <td>8063739</td>\n",
       "      <td>POLYGON ((-10892640.442 3829503.749, -10892583...</td>\n",
       "    </tr>\n",
       "    <tr>\n",
       "      <th>18634</th>\n",
       "      <td>482211603031</td>\n",
       "      <td>221</td>\n",
       "      <td>1542092</td>\n",
       "      <td>POLYGON ((-10888726.928 3818638.273, -10888726...</td>\n",
       "    </tr>\n",
       "    <tr>\n",
       "      <th>18635</th>\n",
       "      <td>480459502002</td>\n",
       "      <td>45</td>\n",
       "      <td>2320609023</td>\n",
       "      <td>POLYGON ((-11295820.004 4089216.426, -11295814...</td>\n",
       "    </tr>\n",
       "    <tr>\n",
       "      <th>18636</th>\n",
       "      <td>482870001004</td>\n",
       "      <td>287</td>\n",
       "      <td>104544628</td>\n",
       "      <td>POLYGON ((-10827269.022 3550986.521, -10827136...</td>\n",
       "    </tr>\n",
       "    <tr>\n",
       "      <th>18637</th>\n",
       "      <td>482870001002</td>\n",
       "      <td>287</td>\n",
       "      <td>266509965</td>\n",
       "      <td>POLYGON ((-10812988.084 3563866.960, -10812927...</td>\n",
       "    </tr>\n",
       "  </tbody>\n",
       "</table>\n",
       "<p>18638 rows × 4 columns</p>\n",
       "</div>"
      ],
      "text/plain": [
       "              GEOID  COUNTYFP       ALAND  \\\n",
       "0      481539506003       153     9238641   \n",
       "1      481539506005       153  1070676551   \n",
       "2      481610004001       161    12766486   \n",
       "3      481610006001       161   153883256   \n",
       "4      481759602001       175   391287006   \n",
       "...             ...       ...         ...   \n",
       "18633  482211602161       221     8063739   \n",
       "18634  482211603031       221     1542092   \n",
       "18635  480459502002        45  2320609023   \n",
       "18636  482870001004       287   104544628   \n",
       "18637  482870001002       287   266509965   \n",
       "\n",
       "                                                geometry  \n",
       "0      POLYGON ((-11285239.429 4026685.683, -11285236...  \n",
       "1      POLYGON ((-11306112.166 4036819.664, -11306045...  \n",
       "2      POLYGON ((-10741933.817 3736605.570, -10741839...  \n",
       "3      POLYGON ((-10733577.283 3722195.688, -10733521...  \n",
       "4      POLYGON ((-10870789.948 3344361.764, -10870776...  \n",
       "...                                                  ...  \n",
       "18633  POLYGON ((-10892640.442 3829503.749, -10892583...  \n",
       "18634  POLYGON ((-10888726.928 3818638.273, -10888726...  \n",
       "18635  POLYGON ((-11295820.004 4089216.426, -11295814...  \n",
       "18636  POLYGON ((-10827269.022 3550986.521, -10827136...  \n",
       "18637  POLYGON ((-10812988.084 3563866.960, -10812927...  \n",
       "\n",
       "[18638 rows x 4 columns]"
      ]
     },
     "execution_count": 5,
     "metadata": {},
     "output_type": "execute_result"
    }
   ],
   "source": [
    "bgrps"
   ]
  },
  {
   "cell_type": "code",
   "execution_count": 6,
   "id": "9f7a658c-63fe-4879-8b96-ed2aab595aad",
   "metadata": {},
   "outputs": [],
   "source": [
    "xwalk = pd.read_pickle(dataFolder + \"/xwalk_data_combined.pkl\")"
   ]
  },
  {
   "cell_type": "code",
   "execution_count": 7,
   "id": "f64c36ba-4f79-42bd-aa7c-5ba476a7f5c1",
   "metadata": {},
   "outputs": [
    {
     "data": {
      "text/plain": [
       "{85, 113, 121, 139, 231, 251, 257, 367, 397, 439, 497}"
      ]
     },
     "execution_count": 7,
     "metadata": {},
     "output_type": "execute_result"
    }
   ],
   "source": [
    "dfwCounties = set(xwalk[xwalk['cbsa'] == metroId].groupby('ctyname').first()['bgrp'] // 10**7 % 10**3)\n",
    "dfwCounties"
   ]
  },
  {
   "cell_type": "code",
   "execution_count": 8,
   "id": "1d7b7396-8701-4d0b-9f6a-93ba824e1e3a",
   "metadata": {},
   "outputs": [],
   "source": [
    "dfwBgrps = bgrps[bgrps['COUNTYFP'].isin(dfwCounties)]"
   ]
  },
  {
   "cell_type": "code",
   "execution_count": 9,
   "id": "820a8ed8-8360-47c6-af52-6ca60c537835",
   "metadata": {},
   "outputs": [
    {
     "data": {
      "text/html": [
       "<div>\n",
       "<style scoped>\n",
       "    .dataframe tbody tr th:only-of-type {\n",
       "        vertical-align: middle;\n",
       "    }\n",
       "\n",
       "    .dataframe tbody tr th {\n",
       "        vertical-align: top;\n",
       "    }\n",
       "\n",
       "    .dataframe thead th {\n",
       "        text-align: right;\n",
       "    }\n",
       "</style>\n",
       "<table border=\"1\" class=\"dataframe\">\n",
       "  <thead>\n",
       "    <tr style=\"text-align: right;\">\n",
       "      <th></th>\n",
       "      <th>GEOID</th>\n",
       "      <th>COUNTYFP</th>\n",
       "      <th>ALAND</th>\n",
       "      <th>geometry</th>\n",
       "    </tr>\n",
       "  </thead>\n",
       "  <tbody>\n",
       "    <tr>\n",
       "      <th>22</th>\n",
       "      <td>480850307025</td>\n",
       "      <td>85</td>\n",
       "      <td>1113614</td>\n",
       "      <td>POLYGON ((-10757776.282 3921721.186, -10757756...</td>\n",
       "    </tr>\n",
       "    <tr>\n",
       "      <th>23</th>\n",
       "      <td>480850316212</td>\n",
       "      <td>85</td>\n",
       "      <td>1076314</td>\n",
       "      <td>POLYGON ((-10774233.821 3897573.678, -10774233...</td>\n",
       "    </tr>\n",
       "    <tr>\n",
       "      <th>28</th>\n",
       "      <td>480850307021</td>\n",
       "      <td>85</td>\n",
       "      <td>528137</td>\n",
       "      <td>POLYGON ((-10755768.631 3922558.397, -10755765...</td>\n",
       "    </tr>\n",
       "    <tr>\n",
       "      <th>29</th>\n",
       "      <td>480850316281</td>\n",
       "      <td>85</td>\n",
       "      <td>392195</td>\n",
       "      <td>POLYGON ((-10766955.738 3902221.690, -10766953...</td>\n",
       "    </tr>\n",
       "    <tr>\n",
       "      <th>30</th>\n",
       "      <td>480850317111</td>\n",
       "      <td>85</td>\n",
       "      <td>565626</td>\n",
       "      <td>POLYGON ((-10780623.127 3894954.119, -10780622...</td>\n",
       "    </tr>\n",
       "    <tr>\n",
       "      <th>...</th>\n",
       "      <td>...</td>\n",
       "      <td>...</td>\n",
       "      <td>...</td>\n",
       "      <td>...</td>\n",
       "    </tr>\n",
       "    <tr>\n",
       "      <th>18589</th>\n",
       "      <td>484391107053</td>\n",
       "      <td>439</td>\n",
       "      <td>720494</td>\n",
       "      <td>POLYGON ((-10850777.833 3865418.544, -10850773...</td>\n",
       "    </tr>\n",
       "    <tr>\n",
       "      <th>18590</th>\n",
       "      <td>484391107051</td>\n",
       "      <td>439</td>\n",
       "      <td>795308</td>\n",
       "      <td>POLYGON ((-10849958.189 3864517.623, -10849866...</td>\n",
       "    </tr>\n",
       "    <tr>\n",
       "      <th>18591</th>\n",
       "      <td>484391107041</td>\n",
       "      <td>439</td>\n",
       "      <td>680602</td>\n",
       "      <td>POLYGON ((-10849223.705 3862180.054, -10849221...</td>\n",
       "    </tr>\n",
       "    <tr>\n",
       "      <th>18592</th>\n",
       "      <td>484391107052</td>\n",
       "      <td>439</td>\n",
       "      <td>772016</td>\n",
       "      <td>POLYGON ((-10850986.447 3864368.824, -10850962...</td>\n",
       "    </tr>\n",
       "    <tr>\n",
       "      <th>18593</th>\n",
       "      <td>484391115225</td>\n",
       "      <td>439</td>\n",
       "      <td>528302</td>\n",
       "      <td>POLYGON ((-10808044.073 3855775.246, -10808042...</td>\n",
       "    </tr>\n",
       "  </tbody>\n",
       "</table>\n",
       "<p>4371 rows × 4 columns</p>\n",
       "</div>"
      ],
      "text/plain": [
       "              GEOID  COUNTYFP    ALAND  \\\n",
       "22     480850307025        85  1113614   \n",
       "23     480850316212        85  1076314   \n",
       "28     480850307021        85   528137   \n",
       "29     480850316281        85   392195   \n",
       "30     480850317111        85   565626   \n",
       "...             ...       ...      ...   \n",
       "18589  484391107053       439   720494   \n",
       "18590  484391107051       439   795308   \n",
       "18591  484391107041       439   680602   \n",
       "18592  484391107052       439   772016   \n",
       "18593  484391115225       439   528302   \n",
       "\n",
       "                                                geometry  \n",
       "22     POLYGON ((-10757776.282 3921721.186, -10757756...  \n",
       "23     POLYGON ((-10774233.821 3897573.678, -10774233...  \n",
       "28     POLYGON ((-10755768.631 3922558.397, -10755765...  \n",
       "29     POLYGON ((-10766955.738 3902221.690, -10766953...  \n",
       "30     POLYGON ((-10780623.127 3894954.119, -10780622...  \n",
       "...                                                  ...  \n",
       "18589  POLYGON ((-10850777.833 3865418.544, -10850773...  \n",
       "18590  POLYGON ((-10849958.189 3864517.623, -10849866...  \n",
       "18591  POLYGON ((-10849223.705 3862180.054, -10849221...  \n",
       "18592  POLYGON ((-10850986.447 3864368.824, -10850962...  \n",
       "18593  POLYGON ((-10808044.073 3855775.246, -10808042...  \n",
       "\n",
       "[4371 rows x 4 columns]"
      ]
     },
     "execution_count": 9,
     "metadata": {},
     "output_type": "execute_result"
    }
   ],
   "source": [
    "dfwBgrps"
   ]
  },
  {
   "cell_type": "code",
   "execution_count": 10,
   "id": "af08775d-b386-4edd-864e-54a3c324f63a",
   "metadata": {},
   "outputs": [],
   "source": [
    "odData = pd.read_pickle(dataFolder + '/od_data_combined' + year + '.pkl')"
   ]
  },
  {
   "cell_type": "code",
   "execution_count": null,
   "id": "872ed6f1-4672-4fad-954f-2a677365a6fd",
   "metadata": {},
   "outputs": [],
   "source": [
    "odData = odData.rename(columns={'S000': 'workers'})\n",
    "odData['w_bgrp'] = odData['w_geocode'] // 10**3\n",
    "byWork = odData[['w_bgrp', 'workers']].groupby('w_bgrp').sum()\n",
    "merge = pd.merge(dfwBgrps, byWork, left_on='GEOID', right_on='w_bgrp', how='left')\n",
    "merge['workers'] = merge['workers'].fillna(0) #If nobody commutes here, will be nan but shoul be 0"
   ]
  },
  {
   "cell_type": "code",
   "execution_count": null,
   "id": "76e67ffa-49e3-4bdd-ac93-a56272987594",
   "metadata": {},
   "outputs": [],
   "source": [
    "merge['density'] = merge['workers'] / merge['ALAND'] * 1000_000 #People per km^2"
   ]
  },
  {
   "cell_type": "code",
   "execution_count": null,
   "id": "b00c966c-199c-47a4-9a85-8ff589256ea8",
   "metadata": {},
   "outputs": [],
   "source": [
    "gdf = merge[['ALAND', 'workers', 'density', 'geometry']]\n",
    "gdf"
   ]
  },
  {
   "cell_type": "code",
   "execution_count": null,
   "id": "76908167-9879-4014-9b20-03a6295ae63b",
   "metadata": {},
   "outputs": [],
   "source": [
    "bins = [10, 20, 50, 100, 200, 500, 1000, 2000, np.inf]\n",
    "merge.plot(column='density', scheme='UserDefined', classification_kwds={'bins': bins}, k=10, edgecolor='lightgrey', linewidth=0.2, legend=True, figsize=(20, 20));\n",
    "plt.axis('off')\n",
    "plt.savefig('figures/workPerArea20' + year + ' lr.jpeg', dpi=100);"
   ]
  },
  {
   "cell_type": "code",
   "execution_count": null,
   "id": "ba07c2e3-e9db-4964-9901-62fbe60bff53",
   "metadata": {
    "tags": []
   },
   "outputs": [],
   "source": [
    "#To save to a file for ArcGis\n",
    "gdf.to_file('out/work locations DFW 20' + year)\n",
    "!zip -r 'out/work locations DFW 20{year}.zip' 'out/work locations DFW 20{year}'"
   ]
  },
  {
   "cell_type": "code",
   "execution_count": null,
   "id": "a996f08d-6c17-48a9-bc50-49a5a6728863",
   "metadata": {},
   "outputs": [],
   "source": [
    "#For multi year analysis, run above for each year\n",
    "# gdf05 = gdf\n",
    "# gdf10 = gdf\n",
    "# gdf15 = gdf\n",
    "gdf20 = gdf"
   ]
  },
  {
   "cell_type": "code",
   "execution_count": null,
   "id": "4776ed79-b694-4f02-86cb-7f53b47bd2df",
   "metadata": {},
   "outputs": [],
   "source": [
    "gdf20['diff'] = (gdf20['density'] - gdf10['density']) / gdf10['density'] * 100"
   ]
  },
  {
   "cell_type": "code",
   "execution_count": null,
   "id": "e280017d-0477-461e-a3e0-55b41a90c5b7",
   "metadata": {},
   "outputs": [],
   "source": [
    "bins = [-100, -50, -20, -10, 0, 10, 20, 50, 100, 200, np.inf]\n",
    "gdf20.plot(column='diff', scheme='UserDefined', classification_kwds={'bins': bins}, k=10, edgecolor='lightgrey', linewidth=0.2, legend=True, figsize=(20, 20));"
   ]
  },
  {
   "cell_type": "code",
   "execution_count": null,
   "id": "51a4a144-ef62-42e7-a652-cd833e0cf17e",
   "metadata": {},
   "outputs": [],
   "source": []
  }
 ],
 "metadata": {
  "kernelspec": {
   "display_name": "Python 3 (ipykernel)",
   "language": "python",
   "name": "python3"
  },
  "language_info": {
   "codemirror_mode": {
    "name": "ipython",
    "version": 3
   },
   "file_extension": ".py",
   "mimetype": "text/x-python",
   "name": "python",
   "nbconvert_exporter": "python",
   "pygments_lexer": "ipython3",
   "version": "3.9.12"
  }
 },
 "nbformat": 4,
 "nbformat_minor": 5
}
