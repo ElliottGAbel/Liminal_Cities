{
 "cells": [
  {
   "cell_type": "code",
   "execution_count": 1,
   "id": "a8ef349a-6221-4a87-981b-30470517b624",
   "metadata": {},
   "outputs": [],
   "source": [
    "import pandas as pd\n",
    "import geopandas as gpd\n",
    "import matplotlib.pyplot as plt\n",
    "import numpy as np\n",
    "import os\n",
    "import requests\n",
    "import gzip\n",
    "import shutil\n",
    "import glob\n",
    "import folium"
   ]
  },
  {
   "cell_type": "code",
   "execution_count": 2,
   "id": "748034b7-dd59-4d50-8dc9-a3303d757491",
   "metadata": {},
   "outputs": [],
   "source": [
    "sharedFolder = '/work/group/egodat/reu23_clark/'\n",
    "dataFolder = sharedFolder + 'data/'"
   ]
  },
  {
   "cell_type": "markdown",
   "id": "48eed3a4-b9e4-4e94-87c4-b954de2abf6f",
   "metadata": {},
   "source": [
    "**Data sources to combine:**\n",
    "* CBSA geometry (from 2019, but used for all years)\n",
    "* Liminal/commuting data 2019, 2020\n",
    "* ACS data for 2010, 2015, and 2021\n",
    "* Internet speed data 2019, 2021\n",
    "* Air quality data 2010, 2015, 2021\n",
    "* Housing Price Index 2010, 2015, 2021\n",
    "\n",
    "* Parklands data\n",
    "* Population/migration data"
   ]
  },
  {
   "cell_type": "markdown",
   "id": "9f481e0d-ae42-403a-ad92-5d00c00e6498",
   "metadata": {},
   "source": [
    "**CBSA geometry from 2019**"
   ]
  },
  {
   "cell_type": "code",
   "execution_count": 20,
   "id": "e1611637-107f-4e19-b0b6-38d5979e37a8",
   "metadata": {},
   "outputs": [],
   "source": [
    "CBSAs = gpd.read_file(dataFolder + \"/tl_2019_us_cbsa.zip\").to_crs(3857)\n",
    "CBSAs = CBSAs[['CBSAFP', 'NAME', 'geometry']].rename(columns={'CBSAFP': 'CBSA'})\n",
    "CBSAs['CBSA'] = CBSAs['CBSA'].astype(int)\n",
    "\n",
    "combined10 = CBSAs.copy()\n",
    "combined15 = CBSAs.copy()\n",
    "combined19 = CBSAs.copy()\n",
    "combined20 = CBSAs.copy()\n",
    "combined21 = CBSAs.copy()"
   ]
  },
  {
   "cell_type": "markdown",
   "id": "0c3cc5a3-885f-4477-ad95-1afb93bae3c5",
   "metadata": {},
   "source": [
    "**Liminal and Commuting Data for 2019 and 2020**\n",
    "\n",
    "CBSA: Core Based Statistical Area id \\\n",
    "LSAD: What type of area it is (metropolitan or micropolitan) \\\n",
    "NAME: Name of CBSA \\\n",
    "geometry: Shape of CBSA \\\n",
    "metro: Is it a metro with population > 1M? \\\n",
    "micro: Is it a metro/micro with population < 100k? \\\n",
    "inBuff: Is it within 100Mi of a metro? \\\n",
    "commuteBuffCount: Number of people commuting to a nearby metro in (from LODES data) \\\n",
    "workingPop: Working population for (from LODES data) \\\n",
    "commutePercent: commuteBuffCount / workingPop * 100 \\\n",
    "liminal: Is it \"micro\" with at least 5% commuting to a metro?"
   ]
  },
  {
   "cell_type": "code",
   "execution_count": 21,
   "id": "292cd596-d2ef-4874-8082-43757e8ebbe2",
   "metadata": {},
   "outputs": [],
   "source": [
    "liminal19 = pd.read_pickle(sharedFolder + 'gdf2019.pkl')\n",
    "liminal20 = pd.read_pickle(sharedFolder + 'gdf2020.pkl')\n",
    "\n",
    "#Name, geometry, population will come from another file, do not need 100Mi buffer geometry\n",
    "liminal19.drop(columns=['NAME', 'geometry', 'POPESTIMATE2020', 'POPESTIMATE2021', 'POPESTIMATE2022', 'buff'], inplace=True)\n",
    "liminal20.drop(columns=['NAME', 'geometry', 'POPESTIMATE2020', 'POPESTIMATE2021', 'POPESTIMATE2022', 'buff'], inplace=True)\n",
    "\n",
    "metro = liminal20['metro']\n",
    "micro = liminal19['micro']\n",
    "liminal = liminal19['liminal'] | liminal20['liminal']\n",
    "\n",
    "combined19 = pd.merge(combined19, liminal19, on='CBSA', how='left')\n",
    "combined20 = pd.merge(combined20, liminal20, on='CBSA', how='left')\n",
    "\n",
    "combined10['liminal'] = liminal; combined10['micro'] = micro; combined10['metro'] = metro\n",
    "combined15['liminal'] = liminal; combined15['micro'] = micro; combined15['metro'] = metro\n",
    "combined19['liminal'] = liminal; combined19['micro'] = micro; combined19['metro'] = metro\n",
    "combined20['liminal'] = liminal; combined20['micro'] = micro; combined20['metro'] = metro\n",
    "combined21['liminal'] = liminal; combined21['micro'] = micro; combined21['metro'] = metro"
   ]
  },
  {
   "cell_type": "markdown",
   "id": "da835e27-371c-4aad-860f-a2136eab9f15",
   "metadata": {},
   "source": [
    "**Internet Speed Data for 2020 q1** (need to change to 2019 and 2021)\n",
    "\n",
    "avg_d_kbps: Average download speed \\\n",
    "avg_u_kbps: Average upload speed \\\n",
    "avg_lat_ms: Average latency in ms \\\n",
    "tests: Number of tests preformed in CBSA \\\n",
    "devices: number of devices tested in CBSA"
   ]
  },
  {
   "cell_type": "code",
   "execution_count": 22,
   "id": "7ed35897-4449-433c-a543-75470146c9bd",
   "metadata": {},
   "outputs": [],
   "source": [
    "intSpeed19 = pd.read_pickle(dataFolder + 'internet_speed/speedByCbsa2019.pkl')\n",
    "# intSpeed20 = pd.read_pickle(sharedFolder + 'internet_speed/speedByCbsa2020.pkl')\n",
    "intSpeed21 = pd.read_pickle(dataFolder + 'internet_speed/speedByCbsa2021.pkl')\n",
    "\n",
    "#Name and geometry come from CBSA data\n",
    "intSpeed19.drop(columns=['NAME', 'geometry'], inplace=True)\n",
    "# intSpeed20.drop(columns=['NAME', 'geometry'], inplace=True)\n",
    "intSpeed21.drop(columns=['NAME', 'geometry'], inplace=True)\n",
    "\n",
    "combined19 = pd.merge(combined19, intSpeed19, on='CBSA', how='outer')\n",
    "# combined20 = pd.merge(combined20, intSpeed, on='CBSA', how='outer')\n",
    "combined21 = pd.merge(combined21, intSpeed21, on='CBSA', how='outer')"
   ]
  },
  {
   "cell_type": "markdown",
   "id": "d21c96e2-6f27-4dfc-bcfb-a37585eea85d",
   "metadata": {},
   "source": [
    "**ACS Data for 2010, 2015, and 2021**\n",
    "\n",
    "Variables are from ACS website"
   ]
  },
  {
   "cell_type": "code",
   "execution_count": 23,
   "id": "3020bbf1-42df-4b64-b283-45bb5a6a161e",
   "metadata": {},
   "outputs": [
    {
     "name": "stdout",
     "output_type": "stream",
     "text": [
      "Index(['CBSA', 'year', 'Total_Population', 'Total_Male_Pop',\n",
      "       'Total_Female_Pop', 'Median_Age', 'M_Median_Age', 'F_Median_Age',\n",
      "       'Race_white', 'Race_black', 'Race_Am_Indian', 'Race_Asian',\n",
      "       'Race_Pac_Isl', 'Median_Income', 'Less_High', 'High_Equiv',\n",
      "       'College_Assoc_Equiv', 'Bachelors', 'Grad_Prof', 'Med_House_Val',\n",
      "       'Ag_For_Fish_Hunt_Mine', 'Construction', 'Manufacturing', 'Wholesale',\n",
      "       'Retail', 'Trans_Ware_Util', 'Information', 'Fin_Insur_Real',\n",
      "       'Fin_Insur', 'Real_Rental', 'Prof_Sci_Tech', 'Mngmt_Enter',\n",
      "       'Admin_WstMngmt', 'Ed_Servc', 'Hlthcr_Social', 'Arts_Entr_Rec',\n",
      "       'Accom_Food_Srvc', 'Other_Servc', 'Public_admin', 'Num_Total_Worker',\n",
      "       'Num_Comp_Info_Res', 'Num_Soft_Dev', 'Num_Comp_Sys_Analyst',\n",
      "       'Num_Info_Sec_Analyst', 'Num_Comp_Programmer', 'Num_Soft_Qual',\n",
      "       'Num_Web_Dev', 'Sal_Avg_Occ', 'Avg_Comp_EngSci', 'Avg_Mngmt_Bus_Fin',\n",
      "       'G_Mobil_Bach', 'G_Mobil_Prof', 'Education_Pop', 'Less_High_pct',\n",
      "       'High_Equiv_pct', 'College_Assoc_Equiv_pct', 'Bachelors_pct',\n",
      "       'Grad_Prof_pct', 'Bach_and_Above_pct', 'Computer_Total',\n",
      "       'G_Mobil_Bach_Prof'],\n",
      "      dtype='object')\n"
     ]
    }
   ],
   "source": [
    "acsData = pd.read_pickle(sharedFolder + 'ACS_data.pkl')\n",
    "print(acsData.columns)\n",
    "\n",
    "acsData10 = acsData[acsData['year'] == 2010].drop(columns='year')\n",
    "acsData15 = acsData[acsData['year'] == 2015].drop(columns='year')\n",
    "acsData19 = acsData[acsData['year'] == 2019].drop(columns='year')\n",
    "acsData21 = acsData[acsData['year'] == 2021].drop(columns='year')\n",
    "\n",
    "combined10 = pd.merge(combined10, acsData10, on='CBSA', how='left')\n",
    "combined15 = pd.merge(combined15, acsData15, on='CBSA', how='left')\n",
    "combined19 = pd.merge(combined19, acsData19, on='CBSA', how='left')\n",
    "combined21 = pd.merge(combined21, acsData21, on='CBSA', how='left')"
   ]
  },
  {
   "cell_type": "markdown",
   "id": "73b0aea7-425f-4955-97aa-e755a8883f7f",
   "metadata": {},
   "source": [
    "**EPA Air Quality Data for 2010, 2015, 2021**\n",
    "\n"
   ]
  },
  {
   "cell_type": "code",
   "execution_count": 24,
   "id": "1012ebb7-8c3c-4c17-ba02-5c26aaa7eb13",
   "metadata": {},
   "outputs": [],
   "source": [
    "aqi10 = pd.read_pickle(dataFolder + 'AQI2010.pkl')\n",
    "aqi15 = pd.read_pickle(dataFolder + 'AQI2015.pkl')\n",
    "aqi19 = pd.read_pickle(dataFolder + 'AQI2019.pkl')\n",
    "aqi21 = pd.read_pickle(dataFolder + 'AQI2021.pkl')\n",
    "\n",
    "aqi10 = aqi10.drop(columns='CBSA').rename(columns={'CBSA Code': 'CBSA'})\n",
    "aqi15 = aqi15.drop(columns='CBSA').rename(columns={'CBSA Code': 'CBSA'})\n",
    "aqi19 = aqi19.drop(columns='CBSA').rename(columns={'CBSA Code': 'CBSA'})\n",
    "aqi21 = aqi21.drop(columns='CBSA').rename(columns={'CBSA Code': 'CBSA'})\n",
    "\n",
    "combined10 = pd.merge(combined10, aqi10, on='CBSA', how='left')\n",
    "combined15 = pd.merge(combined15, aqi15, on='CBSA', how='left')\n",
    "combined19 = pd.merge(combined19, aqi19, on='CBSA', how='left')\n",
    "combined21 = pd.merge(combined21, aqi21, on='CBSA', how='left')"
   ]
  },
  {
   "cell_type": "markdown",
   "id": "7d2752ab-0027-4985-8de4-22cd914dee2e",
   "metadata": {},
   "source": [
    "**Housing Price Index**"
   ]
  },
  {
   "cell_type": "code",
   "execution_count": 25,
   "id": "0a1b322f-c344-443a-b83e-8455f9b91691",
   "metadata": {},
   "outputs": [],
   "source": [
    "hpi = pd.read_pickle(dataFolder + 'HPI/hpi.pkl')\n",
    "\n",
    "hpi10 = hpi[hpi['Year'] == 2010].drop(columns=['Name', 'Year'])\n",
    "hpi15 = hpi[hpi['Year'] == 2015].drop(columns=['Name', 'Year'])\n",
    "hpi19 = hpi[hpi['Year'] == 2019].drop(columns=['Name', 'Year'])\n",
    "hpi21 = hpi[hpi['Year'] == 2021].drop(columns=['Name', 'Year'])\n",
    "\n",
    "combined10 = pd.merge(combined10, hpi10, on='CBSA', how='left')\n",
    "combined15 = pd.merge(combined15, hpi15, on='CBSA', how='left')\n",
    "combined19 = pd.merge(combined19, hpi19, on='CBSA', how='left')\n",
    "combined21 = pd.merge(combined21, hpi21, on='CBSA', how='left')"
   ]
  },
  {
   "cell_type": "markdown",
   "id": "f9295ebc-34da-4341-ac0c-118d63143d5b",
   "metadata": {},
   "source": [
    "**Migration and Population Change**\n",
    "\n",
    "Note: For 2010, \"rate of\" variables use 2011 data"
   ]
  },
  {
   "cell_type": "code",
   "execution_count": 26,
   "id": "2aa6871c-2ce6-4271-9e78-311718047e34",
   "metadata": {},
   "outputs": [],
   "source": [
    "migration = pd.read_pickle(dataFolder + '2010-2021_net_migration.pkl')\n",
    "\n",
    "migration10 = migration[['POPESTIMATE2010', 'NPOPCHG_2010', 'BIRTHS2010', 'DEATHS2010', 'NATURALINC2010', 'INTERNATIONALMIG2010', 'DOMESTICMIG2010', 'NETMIG2010', 'RESIDUAL2010', 'GQESTIMATES2010', 'RBIRTH2011', 'RDEATH2011', 'RNATURALINC2011', 'RINTERNATIONALMIG2011', 'RDOMESTICMIG2011', 'RNETMIG2011']].copy()\n",
    "migration15 = migration[['POPESTIMATE2015', 'NPOPCHG_2015', 'BIRTHS2015', 'DEATHS2015', 'NATURALINC2015', 'INTERNATIONALMIG2015', 'DOMESTICMIG2015', 'NETMIG2015', 'RESIDUAL2015', 'GQESTIMATES2015', 'RBIRTH2015', 'RDEATH2015', 'RNATURALINC2015', 'RINTERNATIONALMIG2015', 'RDOMESTICMIG2015', 'RNETMIG2015']].copy()\n",
    "migration19 = migration[['POPESTIMATE2019', 'NPOPCHG_2019', 'BIRTHS2019', 'DEATHS2019', 'NATURALINC2019', 'INTERNATIONALMIG2019', 'DOMESTICMIG2019', 'NETMIG2019', 'RESIDUAL2019', 'GQESTIMATES2019', 'RBIRTH2019', 'RDEATH2019', 'RNATURALINC2019', 'RINTERNATIONALMIG2019', 'RDOMESTICMIG2019', 'RNETMIG2019']].copy()\n",
    "migration21 = migration[['POPESTIMATE2021', 'NPOPCHG2021',  'BIRTHS2021', 'DEATHS2021', 'NATURALCHG2021', 'INTERNATIONALMIG2021', 'DOMESTICMIG2021', 'NETMIG2021', 'RESIDUAL2021', 'GQESTIMATES2021', 'RBIRTH2021', 'RDEATH2021', 'RNATURALCHG2021', 'RINTERNATIONALMIG2021', 'RDOMESTICMIG2021', 'RNETMIG2019']].copy()\n",
    "\n",
    "migration10 = migration10.reset_index().rename(columns={'cbsa': 'CBSA', 'POPESTIMATE2010': 'POPESTIMATE', 'NPOPCHG_2010': 'NPOPCHG', 'BIRTHS2010': 'BIRTHS', 'DEATHS2010': 'DEATHS', 'NATURALINC2010': 'NATURALINC', 'INTERNATIONALMIG2010': 'INTERNATIONALMIG', 'DOMESTICMIG2010': 'DOMESTICMIG', 'NETMIG2010': 'NETMIG', 'RESIDUAL2010': 'RESIDUAL', 'GQESTIMATES2010': 'GQESTIMATES', 'RBIRTH2011': 'RBIRTH', 'RDEATH2011': 'RDEATH', 'RNATURALINC2011': 'RNATURALINC', 'RINTERNATIONALMIG2011': 'RINTERNATIONALMIG', 'RDOMESTICMIG2011': 'RDOMESTICMIG', 'RNETMIG2011': 'RNETMIG'})\n",
    "migration15 = migration15.reset_index().rename(columns={'cbsa': 'CBSA', 'POPESTIMATE2015': 'POPESTIMATE', 'NPOPCHG_2015': 'NPOPCHG', 'BIRTHS2015': 'BIRTHS', 'DEATHS2015': 'DEATHS', 'NATURALINC2015': 'NATURALINC', 'INTERNATIONALMIG2015': 'INTERNATIONALMIG', 'DOMESTICMIG2015': 'DOMESTICMIG', 'NETMIG2015': 'NETMIG', 'RESIDUAL2015': 'RESIDUAL', 'GQESTIMATES2015': 'GQESTIMATES', 'RBIRTH2015': 'RBIRTH', 'RDEATH2015': 'RDEATH', 'RNATURALINC2015': 'RNATURALINC', 'RINTERNATIONALMIG2015': 'RINTERNATIONALMIG', 'RDOMESTICMIG2015': 'RDOMESTICMIG', 'RNETMIG2015': 'RNETMIG'})\n",
    "migration19 = migration19.reset_index().rename(columns={'cbsa': 'CBSA', 'POPESTIMATE2019': 'POPESTIMATE', 'NPOPCHG_2019': 'NPOPCHG', 'BIRTHS2019': 'BIRTHS', 'DEATHS2019': 'DEATHS', 'NATURALINC2019': 'NATURALINC', 'INTERNATIONALMIG2019': 'INTERNATIONALMIG', 'DOMESTICMIG2019': 'DOMESTICMIG', 'NETMIG2019': 'NETMIG', 'RESIDUAL2019': 'RESIDUAL', 'GQESTIMATES2019': 'GQESTIMATES', 'RBIRTH2019': 'RBIRTH', 'RDEATH2019': 'RDEATH', 'RNATURALINC2019': 'RNATURALINC', 'RINTERNATIONALMIG2019': 'RINTERNATIONALMIG', 'RDOMESTICMIG2019': 'RDOMESTICMIG', 'RNETMIG2019': 'RNETMIG'})\n",
    "migration21 = migration21.reset_index().rename(columns={'cbsa': 'CBSA', 'POPESTIMATE2021': 'POPESTIMATE', 'NPOPCHG2021':  'NPOPCHG', 'BIRTHS2021': 'BIRTHS', 'DEATHS2021': 'DEATHS', 'NATURALCHG2021': 'NATURALINC', 'INTERNATIONALMIG2021': 'INTERNATIONALMIG', 'DOMESTICMIG2021': 'DOMESTICMIG', 'NETMIG2021': 'NETMIG', 'RESIDUAL2021': 'RESIDUAL', 'GQESTIMATES2021': 'GQESTIMATES', 'RBIRTH2021': 'RBIRTH', 'RDEATH2021': 'RDEATH', 'RNATURALCHG2021': 'RNATURALINC', 'RINTERNATIONALMIG2021': 'RINTERNATIONALMIG', 'RDOMESTICMIG2021': 'RDOMESTICMIG', 'RNETMIG2021': 'RNETMIG'})\n",
    "\n",
    "combined10 = pd.merge(combined10, migration10, on='CBSA', how='left')\n",
    "combined15 = pd.merge(combined15, migration15, on='CBSA', how='left')\n",
    "combined19 = pd.merge(combined19, migration19, on='CBSA', how='left')\n",
    "combined21 = pd.merge(combined21, migration21, on='CBSA', how='left')"
   ]
  },
  {
   "cell_type": "code",
   "execution_count": 29,
   "id": "c2f32c81-fd6f-4a7d-a292-149768900dfb",
   "metadata": {},
   "outputs": [
    {
     "data": {
      "text/plain": [
       "['CBSA',\n",
       " 'NAME',\n",
       " 'geometry',\n",
       " 'liminal',\n",
       " 'micro',\n",
       " 'metro',\n",
       " 'Total_Population',\n",
       " 'Total_Male_Pop',\n",
       " 'Total_Female_Pop',\n",
       " 'Median_Age',\n",
       " 'M_Median_Age',\n",
       " 'F_Median_Age',\n",
       " 'Race_white',\n",
       " 'Race_black',\n",
       " 'Race_Am_Indian',\n",
       " 'Race_Asian',\n",
       " 'Race_Pac_Isl',\n",
       " 'Median_Income',\n",
       " 'Less_High',\n",
       " 'High_Equiv',\n",
       " 'College_Assoc_Equiv',\n",
       " 'Bachelors',\n",
       " 'Grad_Prof',\n",
       " 'Med_House_Val',\n",
       " 'Ag_For_Fish_Hunt_Mine',\n",
       " 'Construction',\n",
       " 'Manufacturing',\n",
       " 'Wholesale',\n",
       " 'Retail',\n",
       " 'Trans_Ware_Util',\n",
       " 'Information',\n",
       " 'Fin_Insur_Real',\n",
       " 'Fin_Insur',\n",
       " 'Real_Rental',\n",
       " 'Prof_Sci_Tech',\n",
       " 'Mngmt_Enter',\n",
       " 'Admin_WstMngmt',\n",
       " 'Ed_Servc',\n",
       " 'Hlthcr_Social',\n",
       " 'Arts_Entr_Rec',\n",
       " 'Accom_Food_Srvc',\n",
       " 'Other_Servc',\n",
       " 'Public_admin',\n",
       " 'Num_Total_Worker',\n",
       " 'Num_Comp_Info_Res',\n",
       " 'Num_Soft_Dev',\n",
       " 'Num_Comp_Sys_Analyst',\n",
       " 'Num_Info_Sec_Analyst',\n",
       " 'Num_Comp_Programmer',\n",
       " 'Num_Soft_Qual',\n",
       " 'Num_Web_Dev',\n",
       " 'Sal_Avg_Occ',\n",
       " 'Avg_Comp_EngSci',\n",
       " 'Avg_Mngmt_Bus_Fin',\n",
       " 'G_Mobil_Bach',\n",
       " 'G_Mobil_Prof',\n",
       " 'Education_Pop',\n",
       " 'Less_High_pct',\n",
       " 'High_Equiv_pct',\n",
       " 'College_Assoc_Equiv_pct',\n",
       " 'Bachelors_pct',\n",
       " 'Grad_Prof_pct',\n",
       " 'Bach_and_Above_pct',\n",
       " 'Computer_Total',\n",
       " 'G_Mobil_Bach_Prof',\n",
       " 'Year',\n",
       " 'Days with AQI',\n",
       " 'Good Days',\n",
       " 'Moderate Days',\n",
       " 'Unhealthy for Sensitive Groups Days',\n",
       " 'Unhealthy Days',\n",
       " 'Very Unhealthy Days',\n",
       " 'Hazardous Days',\n",
       " 'Max AQI',\n",
       " '90th Percentile AQI',\n",
       " 'Median AQI',\n",
       " 'Days CO',\n",
       " 'Days NO2',\n",
       " 'Days Ozone',\n",
       " 'Days PM2.5',\n",
       " 'Days PM10',\n",
       " 'Annual Change (%)',\n",
       " 'HPI',\n",
       " 'HPI with 1990 base',\n",
       " 'HPI with 2000 base',\n",
       " 'POPESTIMATE',\n",
       " 'NPOPCHG',\n",
       " 'BIRTHS',\n",
       " 'DEATHS',\n",
       " 'NATURALINC',\n",
       " 'INTERNATIONALMIG',\n",
       " 'DOMESTICMIG',\n",
       " 'NETMIG',\n",
       " 'RESIDUAL',\n",
       " 'GQESTIMATES',\n",
       " 'RBIRTH',\n",
       " 'RDEATH',\n",
       " 'RNATURALINC',\n",
       " 'RINTERNATIONALMIG',\n",
       " 'RDOMESTICMIG',\n",
       " 'RNETMIG']"
      ]
     },
     "execution_count": 29,
     "metadata": {},
     "output_type": "execute_result"
    }
   ],
   "source": [
    "list(combined15.columns)\n",
    "# combined15\n",
    "# combined19\n",
    "# combined21"
   ]
  },
  {
   "cell_type": "code",
   "execution_count": 28,
   "id": "339750ef-b386-4ee1-9c78-7fbab3bdbd32",
   "metadata": {},
   "outputs": [],
   "source": [
    "combined10.to_pickle(dataFolder + \"combined2010.pkl\")\n",
    "combined15.to_pickle(dataFolder + \"combined2015.pkl\")\n",
    "combined19.to_pickle(dataFolder + \"combined2019.pkl\")\n",
    "combined20.to_pickle(dataFolder + \"combined2020.pkl\")\n",
    "combined21.to_pickle(dataFolder + \"combined2021.pkl\")"
   ]
  },
  {
   "cell_type": "code",
   "execution_count": null,
   "id": "c38ebdbb-ba90-49c2-952a-bd1856586fd0",
   "metadata": {},
   "outputs": [],
   "source": []
  }
 ],
 "metadata": {
  "kernelspec": {
   "display_name": "Python 3 (ipykernel)",
   "language": "python",
   "name": "python3"
  },
  "language_info": {
   "codemirror_mode": {
    "name": "ipython",
    "version": 3
   },
   "file_extension": ".py",
   "mimetype": "text/x-python",
   "name": "python",
   "nbconvert_exporter": "python",
   "pygments_lexer": "ipython3",
   "version": "3.9.12"
  }
 },
 "nbformat": 4,
 "nbformat_minor": 5
}
